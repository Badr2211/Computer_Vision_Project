{
 "cells": [
  {
   "cell_type": "code",
   "execution_count": null,
   "id": "984eada9",
   "metadata": {},
   "outputs": [
    {
     "name": "stdout",
     "output_type": "stream",
     "text": [
      "640.0\n",
      "480.0\n",
      "1280.0\n",
      "720.0\n"
     ]
    }
   ],
   "source": [
    "\n",
    "import cv2\n",
    "import datetime\n",
    "cap = cv2.VideoCapture(0)\n",
    "print(cap.get(cv2.CAP_PROP_FRAME_WIDTH))\n",
    "print(cap.get(cv2.CAP_PROP_FRAME_HEIGHT))\n",
    "cap.set(3, 3000) #set your frame \n",
    "cap.set(4, 3000) #set your frame height\n",
    "print(cap.get(3)) #get your frame \n",
    "print(cap.get(4)) #get your frame height\n",
    "while(cap.isOpened()):#while camera is open\n",
    "    ret, frame = cap.read()#read frames\n",
    "    if ret == True: #still there is a frame to process      \n",
    "        font=cv2.FONT_HERSHEY_SIMPLEX\n",
    "        date=str(datetime.datetime.now())\n",
    "        frame = cv2.putText(frame,date,(10,50),font,1,(0,0,255),2)\n",
    "    \n",
    "    cv2.imshow('frame', frame)                             \n",
    "    if cv2.waitKey(1) & 0xFF == ord('q'):#wait key from keyboard                       \n",
    "        break     \n",
    "        \n",
    "cap.release()#clos\n",
    "cv2.destroyAllWindows()#close window"
   ]
  },
  {
   "cell_type": "code",
   "execution_count": null,
   "id": "2052c62d",
   "metadata": {},
   "outputs": [],
   "source": []
  },
  {
   "cell_type": "code",
   "execution_count": null,
   "id": "8b450cdc",
   "metadata": {},
   "outputs": [],
   "source": []
  },
  {
   "cell_type": "code",
   "execution_count": null,
   "id": "1f9c0d4e",
   "metadata": {},
   "outputs": [],
   "source": []
  }
 ],
 "metadata": {
  "kernelspec": {
   "display_name": "Python 3 (ipykernel)",
   "language": "python",
   "name": "python3"
  },
  "language_info": {
   "codemirror_mode": {
    "name": "ipython",
    "version": 3
   },
   "file_extension": ".py",
   "mimetype": "text/x-python",
   "name": "python",
   "nbconvert_exporter": "python",
   "pygments_lexer": "ipython3",
   "version": "3.11.5"
  }
 },
 "nbformat": 4,
 "nbformat_minor": 5
}
