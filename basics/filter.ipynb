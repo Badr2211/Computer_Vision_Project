{
 "cells": [
  {
   "cell_type": "code",
   "execution_count": 2,
   "id": "9a677625",
   "metadata": {},
   "outputs": [],
   "source": [
    "import cv2 as cv\n",
    "import numpy as np\n",
    "import matplotlib.pyplot as plt\n",
    "\n",
    "img = cv.imread('bp1.jpg')  # Replace 'path_to_your_image.jpg' with the actual image path\n",
    "img = cv.cvtColor(img, cv.COLOR_BGR2RGB)\n",
    "\n",
    "kernel = np.ones((5, 5), np.float32) / 25\n",
    "\n",
    "dst = cv.filter2D(img, -1, kernel)\n",
    "blur = cv.blur(img, (2, 2))\n",
    "gblur = cv.GaussianBlur(img, (15, 15), 0)\n",
    "median = cv.medianBlur(img, 3)\n",
    "bilateralFilter = cv.bilateralFilter(img, 9, 75, 75)\n",
    "\n",
    "titles = ['img', 'dst', 'blur', 'gblur', 'median', 'bilateralFilter']\n",
    "images = [img, dst, blur, gblur, median, bilateralFilter]\n",
    "\n",
    "for i in range(6):\n",
    "    cv.imshow(titles[i], cv.cvtColor(images[i], cv.COLOR_RGB2BGR))\n",
    "\n",
    "cv.waitKey(0)\n",
    "cv.destroyAllWindows()\n"
   ]
  },
  {
   "cell_type": "code",
   "execution_count": null,
   "id": "608f6c45",
   "metadata": {},
   "outputs": [],
   "source": []
  }
 ],
 "metadata": {
  "kernelspec": {
   "display_name": "Python 3 (ipykernel)",
   "language": "python",
   "name": "python3"
  },
  "language_info": {
   "codemirror_mode": {
    "name": "ipython",
    "version": 3
   },
   "file_extension": ".py",
   "mimetype": "text/x-python",
   "name": "python",
   "nbconvert_exporter": "python",
   "pygments_lexer": "ipython3",
   "version": "3.11.5"
  }
 },
 "nbformat": 4,
 "nbformat_minor": 5
}
