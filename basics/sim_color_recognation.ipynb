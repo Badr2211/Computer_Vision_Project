{
 "cells": [
  {
   "cell_type": "code",
   "execution_count": 1,
   "id": "1331d9c8",
   "metadata": {
    "scrolled": true
   },
   "outputs": [
    {
     "ename": "error",
     "evalue": "OpenCV(4.8.1) D:\\a\\opencv-python\\opencv-python\\opencv\\modules\\imgproc\\src\\color.cpp:182: error: (-215:Assertion failed) !_src.empty() in function 'cv::cvtColor'\n",
     "output_type": "error",
     "traceback": [
      "\u001b[1;31m---------------------------------------------------------------------------\u001b[0m",
      "\u001b[1;31merror\u001b[0m                                     Traceback (most recent call last)",
      "Cell \u001b[1;32mIn[1], line 9\u001b[0m\n\u001b[0;32m      7\u001b[0m \u001b[38;5;28;01mwhile\u001b[39;00m \u001b[38;5;28;01mTrue\u001b[39;00m:\n\u001b[0;32m      8\u001b[0m     _, frame \u001b[38;5;241m=\u001b[39m cap\u001b[38;5;241m.\u001b[39mread()\n\u001b[1;32m----> 9\u001b[0m     hsv_frame \u001b[38;5;241m=\u001b[39m cv2\u001b[38;5;241m.\u001b[39mcvtColor(frame, cv2\u001b[38;5;241m.\u001b[39mCOLOR_BGR2HSV)\n\u001b[0;32m     10\u001b[0m     height, width, _ \u001b[38;5;241m=\u001b[39m frame\u001b[38;5;241m.\u001b[39mshape\n\u001b[0;32m     12\u001b[0m     cx \u001b[38;5;241m=\u001b[39m \u001b[38;5;28mint\u001b[39m(width \u001b[38;5;241m/\u001b[39m \u001b[38;5;241m2\u001b[39m)\n",
      "\u001b[1;31merror\u001b[0m: OpenCV(4.8.1) D:\\a\\opencv-python\\opencv-python\\opencv\\modules\\imgproc\\src\\color.cpp:182: error: (-215:Assertion failed) !_src.empty() in function 'cv::cvtColor'\n"
     ]
    }
   ],
   "source": [
    "import cv2\n",
    "\n",
    "cap = cv2.VideoCapture(0)\n",
    "cap.set(cv2.CAP_PROP_FRAME_WIDTH, 1280)\n",
    "cap.set(cv2.CAP_PROP_FRAME_HEIGHT, 720)\n",
    "\n",
    "while True:\n",
    "    _, frame = cap.read()\n",
    "    hsv_frame = cv2.cvtColor(frame, cv2.COLOR_BGR2HSV)\n",
    "    height, width, _ = frame.shape\n",
    "\n",
    "    cx = int(width / 2)\n",
    "    cy = int(height / 2)\n",
    "\n",
    "    # Pick pixel value\n",
    "    pixel_center = hsv_frame[cy, cx]\n",
    "    hue_value = pixel_center[0]\n",
    "\n",
    "    color = \"Undefined\"\n",
    "    if hue_value < 5:\n",
    "        color = \"RED\"\n",
    "    elif hue_value < 22:\n",
    "        color = \"ORANGE\"\n",
    "    elif hue_value < 33:\n",
    "        color = \"YELLOW\"\n",
    "    elif hue_value < 78:\n",
    "        color = \"GREEN\"\n",
    "    elif hue_value < 131:\n",
    "        color = \"BLUE\"\n",
    "    elif hue_value < 170:\n",
    "        color = \"VIOLET\"\n",
    "    else:\n",
    "        color = \"RED\"\n",
    "\n",
    "    pixel_center_bgr = frame[cy, cx]\n",
    "    b, g, r = int(pixel_center_bgr[0]), int(pixel_center_bgr[1]), int(pixel_center_bgr[2])\n",
    "\n",
    "    cv2.rectangle(frame, (cx - 220, 10), (cx + 200, 120), (255, 255, 255), -1)\n",
    "    cv2.putText(frame, color, (cx - 200, 100), 0, 3, (b, g, r), 5)\n",
    "    cv2.circle(frame, (cx, cy), 5, (25, 25, 25), 3)\n",
    "    cv2.imshow(\"Frame\", frame)\n",
    "    #out.write(frame) #save your video\n",
    "    key = cv2.waitKey(1)\n",
    "    if key == 27:\n",
    "        break\n",
    "\n",
    "cap.release()\n",
    "\n",
    "cv2.destroyAllWindows()"
   ]
  },
  {
   "cell_type": "code",
   "execution_count": null,
   "id": "22a81666",
   "metadata": {},
   "outputs": [],
   "source": []
  },
  {
   "cell_type": "code",
   "execution_count": null,
   "id": "89a2acd7",
   "metadata": {},
   "outputs": [],
   "source": []
  }
 ],
 "metadata": {
  "kernelspec": {
   "display_name": "Python 3 (ipykernel)",
   "language": "python",
   "name": "python3"
  },
  "language_info": {
   "codemirror_mode": {
    "name": "ipython",
    "version": 3
   },
   "file_extension": ".py",
   "mimetype": "text/x-python",
   "name": "python",
   "nbconvert_exporter": "python",
   "pygments_lexer": "ipython3",
   "version": "3.11.5"
  }
 },
 "nbformat": 4,
 "nbformat_minor": 5
}
