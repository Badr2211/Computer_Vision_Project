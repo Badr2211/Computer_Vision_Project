{
 "cells": [
  {
   "cell_type": "code",
   "execution_count": 1,
   "id": "e8b413a1",
   "metadata": {},
   "outputs": [],
   "source": [
    "import cv2 as cv\n",
    "import numpy as np\n",
    "import matplotlib.pyplot as plt \n",
    "\n",
    "img = cv.imread('bp1.jpg', 0)\n",
    "\n",
    "_, th1 = cv.threshold(img, 50, 255, cv.THRESH_BINARY)\n",
    "_, th2 = cv.threshold(img, 200, 255, cv.THRESH_BINARY_INV)\n",
    "_, th3 = cv.threshold(img, 127, 255, cv.THRESH_TRUNC)\n",
    "_, th4 = cv.threshold(img, 127, 255, cv.THRESH_TOZERO)\n",
    "_, th5 = cv.threshold(img, 127, 255, cv.THRESH_TOZERO_INV)\n",
    "\n",
    "cv.imshow(\"Original Image\", img)\n",
    "cv.imshow(\"Binary Threshold\", th1)\n",
    "cv.imshow(\"Binary Inverted Threshold\", th2)\n",
    "cv.imshow(\"Truncated Threshold\", th3)\n",
    "cv.imshow(\"To Zero Threshold\", th4)\n",
    "cv.imshow(\"To Zero Inverted Threshold\", th5)\n",
    "\n",
    "cv.waitKey(0)\n",
    "cv.destroyAllWindows()\n"
   ]
  },
  {
   "cell_type": "code",
   "execution_count": null,
   "id": "adadc29e",
   "metadata": {},
   "outputs": [],
   "source": []
  },
  {
   "cell_type": "code",
   "execution_count": 2,
   "id": "d3180f98",
   "metadata": {},
   "outputs": [],
   "source": [
    "import cv2 as cv\n",
    "import numpy as np\n",
    "import matplotlib.pyplot as plt\n",
    "\n",
    "img = cv.imread('bp1.jpg', 0)\n",
    "\n",
    "_, th1 = cv.threshold(img, 127, 255, cv.THRESH_BINARY)\n",
    "th2 = cv.adaptiveThreshold(img, 255, cv.ADAPTIVE_THRESH_MEAN_C, cv.THRESH_BINARY, 11, 2)\n",
    "th3 = cv.adaptiveThreshold(img, 255, cv.ADAPTIVE_THRESH_GAUSSIAN_C, cv.THRESH_BINARY, 33, 5)\n",
    "\n",
    "cv.imshow('Original Image', img)\n",
    "cv.imshow('Global Thresholding', th1)\n",
    "cv.imshow('Adaptive Gaussian Thresholding', th3)\n",
    "\n",
    "cv.waitKey(0)\n",
    "cv.destroyAllWindows()\n"
   ]
  },
  {
   "cell_type": "code",
   "execution_count": null,
   "id": "bb2904f8",
   "metadata": {},
   "outputs": [],
   "source": []
  }
 ],
 "metadata": {
  "kernelspec": {
   "display_name": "Python 3 (ipykernel)",
   "language": "python",
   "name": "python3"
  },
  "language_info": {
   "codemirror_mode": {
    "name": "ipython",
    "version": 3
   },
   "file_extension": ".py",
   "mimetype": "text/x-python",
   "name": "python",
   "nbconvert_exporter": "python",
   "pygments_lexer": "ipython3",
   "version": "3.11.5"
  }
 },
 "nbformat": 4,
 "nbformat_minor": 5
}
